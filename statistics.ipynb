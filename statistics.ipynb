{
 "cells": [
  {
   "cell_type": "markdown",
   "metadata": {},
   "source": [
    "import statistics\n",
    "import random"
   ]
  },
  {
   "cell_type": "markdown",
   "metadata": {},
   "source": [
    "##random are two types"
   ]
  },
  {
   "cell_type": "markdown",
   "metadata": {},
   "source": [
    "# 1 without random\n",
    "# 2 with random\n"
   ]
  },
  {
   "cell_type": "code",
   "execution_count": 9,
   "metadata": {},
   "outputs": [
    {
     "name": "stdout",
     "output_type": "stream",
     "text": [
      "[1, 2, 3, 4, 5, 6, 7, 8, 9, 10, 11, 12, 13, 14, 15, 16, 17, 18, 19, 20, 21, 22, 23, 24, 25, 26, 27, 28, 29, 30, 31, 32, 33, 34, 35, 36, 37, 38, 39, 40, 41, 42, 43, 44, 45, 46, 47, 48, 49, 50, 51, 52, 53, 54, 55, 56, 57, 58, 59, 60, 61, 62, 63, 64, 65, 66, 67, 68, 69, 70, 71, 72, 73, 74, 75, 76, 77, 78, 79, 80, 81, 82, 83, 84, 85, 86, 87, 88, 89, 90, 91, 92, 93, 94, 95, 96, 97, 98, 99]\n"
     ]
    }
   ],
   "source": [
    "a= list ( range ( 1,100))\n",
    "print (a)"
   ]
  },
  {
   "cell_type": "code",
   "execution_count": 22,
   "metadata": {},
   "outputs": [],
   "source": [
    "#without replacement\n",
    "p=random.sample( a,k=20)   ### unique  sample are selected"
   ]
  },
  {
   "cell_type": "code",
   "execution_count": 12,
   "metadata": {},
   "outputs": [
    {
     "name": "stdout",
     "output_type": "stream",
     "text": [
      "[32, 78, 22, 3, 80, 62, 60, 20, 98, 77, 24, 47, 11, 65, 35, 8, 41, 73, 17, 58]\n"
     ]
    }
   ],
   "source": [
    "print (p)"
   ]
  },
  {
   "cell_type": "code",
   "execution_count": 24,
   "metadata": {},
   "outputs": [],
   "source": [
    "# with replacement\n",
    "o=random.choices(a,k=200)   ## both  sample are selected"
   ]
  },
  {
   "cell_type": "code",
   "execution_count": 69,
   "metadata": {},
   "outputs": [
    {
     "name": "stdout",
     "output_type": "stream",
     "text": [
      "[88, 26, 61, 61, 65, 35, 8, 31, 68, 21, 61, 30, 7, 29, 95, 83, 1, 10, 36, 84, 87, 89, 8, 62, 48, 66, 75, 37, 41, 96, 45, 73, 57, 6, 95, 41, 58, 37, 72, 77, 84, 24, 17, 69, 74, 7, 81, 45, 14, 54, 52, 32, 41, 81, 36, 65, 16, 58, 16, 35, 64, 92, 51, 92, 67, 90, 31, 13, 72, 86, 96, 18, 71, 39, 7, 23, 68, 1, 78, 55, 54, 28, 90, 14, 94, 3, 80, 50, 4, 15, 51, 41, 88, 14, 72, 4, 34, 91, 39, 75, 8, 7, 41, 96, 27, 36, 2, 94, 53, 37, 25, 60, 33, 57, 29, 57, 70, 32, 24, 66, 63, 2, 86, 62, 43, 23, 6, 20, 63, 71, 24, 22, 98, 42, 24, 86, 1, 87, 59, 79, 85, 79, 7, 27, 12, 67, 55, 20, 82, 61, 78, 57, 12, 58, 51, 87, 39, 18, 52, 95, 8, 56, 64, 93, 20, 84, 3, 37, 99, 93, 86, 89, 58, 9, 96, 94, 35, 66, 37, 92, 50, 53, 89, 27, 9, 53, 81, 48, 82, 42, 11, 51, 52, 56, 18, 58, 44, 96, 59, 39]\n"
     ]
    },
    {
     "data": {
      "text/plain": [
       "slice(None, [3, 5, 4, 1, 5, 1, 4, 3, 5, 3], None)"
      ]
     },
     "execution_count": 69,
     "metadata": {},
     "output_type": "execute_result"
    }
   ],
   "source": [
    "print(o)\n",
    "sum(a)\n",
    "set(a)\n",
    "slice((a))"
   ]
  },
  {
   "cell_type": "code",
   "execution_count": 56,
   "metadata": {},
   "outputs": [
    {
     "name": "stdout",
     "output_type": "stream",
     "text": [
      "[3, 5, 4, 1, 5, 1, 4, 3, 5, 3]\n"
     ]
    }
   ],
   "source": [
    "a=[]\n",
    "for i in range ( 10):\n",
    " a.append  (random.randint(1,5))\n",
    "print(a)"
   ]
  },
  {
   "cell_type": "code",
   "execution_count": 57,
   "metadata": {},
   "outputs": [
    {
     "name": "stdout",
     "output_type": "stream",
     "text": [
      "[3, 5, 4, 1, 5, 1, 4, 3, 5, 3]\n"
     ]
    }
   ],
   "source": [
    "print (a)"
   ]
  },
  {
   "cell_type": "code",
   "execution_count": 58,
   "metadata": {},
   "outputs": [],
   "source": [
    "import statistics"
   ]
  },
  {
   "cell_type": "code",
   "execution_count": 73,
   "metadata": {},
   "outputs": [],
   "source": [
    "a=[1,2,3,1,2,3,1,2,]"
   ]
  },
  {
   "cell_type": "markdown",
   "metadata": {},
   "source": [
    "# MODE"
   ]
  },
  {
   "cell_type": "code",
   "execution_count": 74,
   "metadata": {},
   "outputs": [
    {
     "name": "stdout",
     "output_type": "stream",
     "text": [
      "[1, 2, 3, 1, 2, 3, 1, 2, 3]\n"
     ]
    }
   ],
   "source": [
    "print(a)"
   ]
  },
  {
   "cell_type": "code",
   "execution_count": 75,
   "metadata": {},
   "outputs": [
    {
     "data": {
      "text/plain": [
       "1"
      ]
     },
     "execution_count": 75,
     "metadata": {},
     "output_type": "execute_result"
    }
   ],
   "source": [
    "statistics.mode(a)"
   ]
  },
  {
   "cell_type": "code",
   "execution_count": 106,
   "metadata": {},
   "outputs": [],
   "source": [
    "b=[2,1,3,1,2,3,1,2]   ## int"
   ]
  },
  {
   "cell_type": "code",
   "execution_count": 107,
   "metadata": {},
   "outputs": [
    {
     "data": {
      "text/plain": [
       "2"
      ]
     },
     "execution_count": 107,
     "metadata": {},
     "output_type": "execute_result"
    }
   ],
   "source": [
    "statistics.mode(a)"
   ]
  },
  {
   "cell_type": "code",
   "execution_count": 99,
   "metadata": {},
   "outputs": [],
   "source": [
    "b=[b=[2,1,3,1,2,3,1,2] ]   ## float"
   ]
  },
  {
   "cell_type": "code",
   "execution_count": 100,
   "metadata": {},
   "outputs": [
    {
     "data": {
      "text/plain": [
       "1.0"
      ]
     },
     "execution_count": 100,
     "metadata": {},
     "output_type": "execute_result"
    }
   ],
   "source": [
    "statistics.mode(b)"
   ]
  },
  {
   "cell_type": "code",
   "execution_count": 105,
   "metadata": {},
   "outputs": [
    {
     "data": {
      "text/plain": [
       "'2.7,1.0,3.9,1.0,2.90'"
      ]
     },
     "execution_count": 105,
     "metadata": {},
     "output_type": "execute_result"
    }
   ],
   "source": [
    "b=[\"2.7,1.0,3.9,1.0,2.90\"]   # str\n",
    "statistics.mode(b)\n"
   ]
  },
  {
   "cell_type": "markdown",
   "metadata": {},
   "source": [
    "# MEAN"
   ]
  },
  {
   "cell_type": "code",
   "execution_count": 108,
   "metadata": {},
   "outputs": [
    {
     "data": {
      "text/plain": [
       "8"
      ]
     },
     "execution_count": 108,
     "metadata": {},
     "output_type": "execute_result"
    }
   ],
   "source": [
    "b=[2,1,3,1,2,3,1,2]   ## int\n",
    "statistics.mean(b)\n",
    "len(b)\n"
   ]
  },
  {
   "cell_type": "code",
   "execution_count": 109,
   "metadata": {},
   "outputs": [
    {
     "data": {
      "text/plain": [
       "5"
      ]
     },
     "execution_count": 109,
     "metadata": {},
     "output_type": "execute_result"
    }
   ],
   "source": [
    "b=[2,4,6,8]\n",
    "statistics.mean(b)\n"
   ]
  },
  {
   "cell_type": "code",
   "execution_count": 110,
   "metadata": {},
   "outputs": [
    {
     "data": {
      "text/plain": [
       "5.4"
      ]
     },
     "execution_count": 110,
     "metadata": {},
     "output_type": "execute_result"
    }
   ],
   "source": [
    "b=[2,4,6,8,7]\n",
    "statistics.mean(b)"
   ]
  },
  {
   "cell_type": "code",
   "execution_count": null,
   "metadata": {},
   "outputs": [],
   "source": [
    "b=[2,1,3,1,2,3,1,2] \n",
    "statistics.mean(b)"
   ]
  },
  {
   "cell_type": "code",
   "execution_count": 112,
   "metadata": {},
   "outputs": [
    {
     "data": {
      "text/plain": [
       "tuple"
      ]
     },
     "execution_count": 112,
     "metadata": {},
     "output_type": "execute_result"
    }
   ],
   "source": [
    "x=2.7,1.0,3.9,1.0,2.90\n",
    "statistics.mean(x)\n",
    "type(x)"
   ]
  },
  {
   "cell_type": "code",
   "execution_count": 115,
   "metadata": {},
   "outputs": [
    {
     "ename": "TypeError",
     "evalue": "can't convert type 'str' to numerator/denominator",
     "output_type": "error",
     "traceback": [
      "\u001b[1;31m---------------------------------------------------------------------------\u001b[0m",
      "\u001b[1;31mAttributeError\u001b[0m                            Traceback (most recent call last)",
      "File \u001b[1;32mC:\\Program Files\\WindowsApps\\PythonSoftwareFoundation.Python.3.11_3.11.1264.0_x64__qbz5n2kfra8p0\\Lib\\statistics.py:327\u001b[0m, in \u001b[0;36m_exact_ratio\u001b[1;34m(x)\u001b[0m\n\u001b[0;32m    325\u001b[0m \u001b[39mtry\u001b[39;00m:\n\u001b[0;32m    326\u001b[0m     \u001b[39m# x may be an Integral ABC.\u001b[39;00m\n\u001b[1;32m--> 327\u001b[0m     \u001b[39mreturn\u001b[39;00m (x\u001b[39m.\u001b[39;49mnumerator, x\u001b[39m.\u001b[39mdenominator)\n\u001b[0;32m    328\u001b[0m \u001b[39mexcept\u001b[39;00m \u001b[39mAttributeError\u001b[39;00m:\n",
      "\u001b[1;31mAttributeError\u001b[0m: 'str' object has no attribute 'numerator'",
      "\nDuring handling of the above exception, another exception occurred:\n",
      "\u001b[1;31mTypeError\u001b[0m                                 Traceback (most recent call last)",
      "Cell \u001b[1;32mIn[115], line 3\u001b[0m\n\u001b[0;32m      1\u001b[0m x\u001b[39m=\u001b[39m[\u001b[39m\"\u001b[39m\u001b[39m2.7,1.0,3.9,1.0,2.90\u001b[39m\u001b[39m\"\u001b[39m]     \u001b[39m# can not use str \u001b[39;00m\n\u001b[0;32m      2\u001b[0m                              \u001b[39m# use to int , float\u001b[39;00m\n\u001b[1;32m----> 3\u001b[0m statistics\u001b[39m.\u001b[39;49mmean(x)\n",
      "File \u001b[1;32mC:\\Program Files\\WindowsApps\\PythonSoftwareFoundation.Python.3.11_3.11.1264.0_x64__qbz5n2kfra8p0\\Lib\\statistics.py:430\u001b[0m, in \u001b[0;36mmean\u001b[1;34m(data)\u001b[0m\n\u001b[0;32m    414\u001b[0m \u001b[39mdef\u001b[39;00m \u001b[39mmean\u001b[39m(data):\n\u001b[0;32m    415\u001b[0m \u001b[39m    \u001b[39m\u001b[39m\"\"\"Return the sample arithmetic mean of data.\u001b[39;00m\n\u001b[0;32m    416\u001b[0m \n\u001b[0;32m    417\u001b[0m \u001b[39m    >>> mean([1, 2, 3, 4, 4])\u001b[39;00m\n\u001b[1;32m   (...)\u001b[0m\n\u001b[0;32m    428\u001b[0m \u001b[39m    If ``data`` is empty, StatisticsError will be raised.\u001b[39;00m\n\u001b[0;32m    429\u001b[0m \u001b[39m    \"\"\"\u001b[39;00m\n\u001b[1;32m--> 430\u001b[0m     T, total, n \u001b[39m=\u001b[39m _sum(data)\n\u001b[0;32m    431\u001b[0m     \u001b[39mif\u001b[39;00m n \u001b[39m<\u001b[39m \u001b[39m1\u001b[39m:\n\u001b[0;32m    432\u001b[0m         \u001b[39mraise\u001b[39;00m StatisticsError(\u001b[39m'\u001b[39m\u001b[39mmean requires at least one data point\u001b[39m\u001b[39m'\u001b[39m)\n",
      "File \u001b[1;32mC:\\Program Files\\WindowsApps\\PythonSoftwareFoundation.Python.3.11_3.11.1264.0_x64__qbz5n2kfra8p0\\Lib\\statistics.py:193\u001b[0m, in \u001b[0;36m_sum\u001b[1;34m(data)\u001b[0m\n\u001b[0;32m    191\u001b[0m \u001b[39mfor\u001b[39;00m typ, values \u001b[39min\u001b[39;00m groupby(data, \u001b[39mtype\u001b[39m):\n\u001b[0;32m    192\u001b[0m     types_add(typ)\n\u001b[1;32m--> 193\u001b[0m     \u001b[39mfor\u001b[39;00m n, d \u001b[39min\u001b[39;00m \u001b[39mmap\u001b[39m(_exact_ratio, values):\n\u001b[0;32m    194\u001b[0m         count \u001b[39m+\u001b[39m\u001b[39m=\u001b[39m \u001b[39m1\u001b[39m\n\u001b[0;32m    195\u001b[0m         partials[d] \u001b[39m=\u001b[39m partials_get(d, \u001b[39m0\u001b[39m) \u001b[39m+\u001b[39m n\n",
      "File \u001b[1;32mC:\\Program Files\\WindowsApps\\PythonSoftwareFoundation.Python.3.11_3.11.1264.0_x64__qbz5n2kfra8p0\\Lib\\statistics.py:330\u001b[0m, in \u001b[0;36m_exact_ratio\u001b[1;34m(x)\u001b[0m\n\u001b[0;32m    328\u001b[0m \u001b[39mexcept\u001b[39;00m \u001b[39mAttributeError\u001b[39;00m:\n\u001b[0;32m    329\u001b[0m     msg \u001b[39m=\u001b[39m \u001b[39mf\u001b[39m\u001b[39m\"\u001b[39m\u001b[39mcan\u001b[39m\u001b[39m'\u001b[39m\u001b[39mt convert type \u001b[39m\u001b[39m'\u001b[39m\u001b[39m{\u001b[39;00m\u001b[39mtype\u001b[39m(x)\u001b[39m.\u001b[39m\u001b[39m__name__\u001b[39m\u001b[39m}\u001b[39;00m\u001b[39m'\u001b[39m\u001b[39m to numerator/denominator\u001b[39m\u001b[39m\"\u001b[39m\n\u001b[1;32m--> 330\u001b[0m     \u001b[39mraise\u001b[39;00m \u001b[39mTypeError\u001b[39;00m(msg)\n",
      "\u001b[1;31mTypeError\u001b[0m: can't convert type 'str' to numerator/denominator"
     ]
    }
   ],
   "source": [
    "x=[\"2.7,1.0,3.9,1.0,2.90\"]     # can not use (str )\n",
    "                             # use to (int) , (float)\n",
    "statistics.mean(x)"
   ]
  },
  {
   "cell_type": "markdown",
   "metadata": {},
   "source": [
    "median"
   ]
  },
  {
   "cell_type": "code",
   "execution_count": 126,
   "metadata": {},
   "outputs": [
    {
     "data": {
      "text/plain": [
       "2"
      ]
     },
     "execution_count": 126,
     "metadata": {},
     "output_type": "execute_result"
    }
   ],
   "source": [
    "statistics.median(p)"
   ]
  },
  {
   "cell_type": "code",
   "execution_count": 132,
   "metadata": {},
   "outputs": [
    {
     "data": {
      "text/plain": [
       "[-7, 1, 1, 2, 2, 6, 8]"
      ]
     },
     "execution_count": 132,
     "metadata": {},
     "output_type": "execute_result"
    }
   ],
   "source": [
    "p=[1,2,1,6,8,2] \n",
    "sorted(p)"
   ]
  },
  {
   "cell_type": "code",
   "execution_count": 133,
   "metadata": {},
   "outputs": [
    {
     "data": {
      "text/plain": [
       "2"
      ]
     },
     "execution_count": 133,
     "metadata": {},
     "output_type": "execute_result"
    }
   ],
   "source": [
    "statistics.median(p)"
   ]
  },
  {
   "cell_type": "code",
   "execution_count": 134,
   "metadata": {},
   "outputs": [
    {
     "data": {
      "text/plain": [
       "2.2"
      ]
     },
     "execution_count": 134,
     "metadata": {},
     "output_type": "execute_result"
    }
   ],
   "source": [
    "d=[1.8,2.6,1.5,6.9]\n",
    "statistics.median((d))"
   ]
  },
  {
   "cell_type": "markdown",
   "metadata": {},
   "source": [
    "#  quantilles"
   ]
  },
  {
   "cell_type": "code",
   "execution_count": 17,
   "metadata": {},
   "outputs": [],
   "source": [
    "import statistics\n"
   ]
  },
  {
   "cell_type": "code",
   "execution_count": 36,
   "metadata": {},
   "outputs": [
    {
     "data": {
      "text/plain": [
       "[3.0, 6.0, 9.0]"
      ]
     },
     "execution_count": 36,
     "metadata": {},
     "output_type": "execute_result"
    }
   ],
   "source": [
    "x=[1,80,60,3,3,4,5,6,7,8,9]\n",
    "statistics.quantiles((x))"
   ]
  },
  {
   "cell_type": "code",
   "execution_count": 37,
   "metadata": {},
   "outputs": [
    {
     "name": "stdout",
     "output_type": "stream",
     "text": [
      "[16, 13, 7, 6, 13, 6, 8, 9, 8, 3, 17, 11, 20, 6, 19, 8, 5, 15, 1, 18, 15, 3, 19, 17, 6, 14, 19, 11, 20, 3, 13, 4, 14, 10, 13, 2, 3, 20, 16, 18, 17, 3, 4, 1, 10, 15, 4, 9, 18, 7]\n"
     ]
    }
   ],
   "source": [
    "import random\n",
    "x=[]\n",
    "for  i in range(50):\n",
    "  x.append  (random.randint(1,20))\n",
    "print(x)"
   ]
  },
  {
   "cell_type": "code",
   "execution_count": 52,
   "metadata": {},
   "outputs": [],
   "source": [
    "y=[]\n",
    "for i in x:\n",
    "    if(i<=6):\n",
    "        y.append(i)"
   ]
  },
  {
   "cell_type": "code",
   "execution_count": 53,
   "metadata": {},
   "outputs": [
    {
     "data": {
      "text/plain": [
       "16"
      ]
     },
     "execution_count": 53,
     "metadata": {},
     "output_type": "execute_result"
    }
   ],
   "source": [
    "len(y)"
   ]
  },
  {
   "cell_type": "code",
   "execution_count": 54,
   "metadata": {},
   "outputs": [
    {
     "name": "stdout",
     "output_type": "stream",
     "text": [
      "[17, 1, 43, 7, 27, 34, 14, 30, 37, 4, 43, 45, 33, 13, 47, 49, 25, 1, 26, 14, 37, 15, 41, 16, 5, 37, 2, 17, 13, 28, 11, 12, 13, 9, 22, 46, 10, 23, 11, 30, 23, 2, 17, 16, 50, 20, 28, 31, 14, 23, 12, 10, 3, 29, 6, 23, 5, 26, 5, 23, 47, 1, 24, 27, 26, 41, 13, 12, 22, 24, 8, 37, 7, 45, 50, 5, 11, 26, 5, 19, 44, 5, 10, 28, 48, 20, 46, 1, 36, 22, 39, 49, 21, 36, 20, 45, 11, 9, 24, 43]\n"
     ]
    }
   ],
   "source": [
    "import random\n",
    "x=[]\n",
    "for  i in range(100):\n",
    "  x.append  (random.randint(1,50))\n",
    "print(x)"
   ]
  },
  {
   "cell_type": "code",
   "execution_count": 55,
   "metadata": {},
   "outputs": [],
   "source": [
    "x[10]=400"
   ]
  },
  {
   "cell_type": "code",
   "execution_count": 59,
   "metadata": {},
   "outputs": [],
   "source": [
    "x[3]=-600"
   ]
  },
  {
   "cell_type": "code",
   "execution_count": 60,
   "metadata": {},
   "outputs": [
    {
     "name": "stdout",
     "output_type": "stream",
     "text": [
      "[17, 1, 43, -600, 27, 34, 14, 30, 37, 4, 400, 45, 33, 13, 47, 49, 25, 1, 26, 14, 37, 15, 41, 16, 5, 37, 2, 17, 13, 28, 11, 12, 13, 9, 22, 46, 10, 23, 11, 30, 23, 2, 17, 16, 50, 20, 28, 31, 14, 23, 12, 10, 3, 29, 6, 23, 5, 26, 5, 23, 47, 1, 24, 27, 26, 41, 13, 12, 22, 24, 8, 37, 7, 45, 50, 5, 11, 26, 5, 19, 44, 5, 10, 28, 48, 20, 46, 1, 36, 22, 39, 49, 21, 36, 20, 45, 11, 9, 24, 43]\n"
     ]
    }
   ],
   "source": [
    "print(x)"
   ]
  },
  {
   "cell_type": "code",
   "execution_count": 68,
   "metadata": {},
   "outputs": [],
   "source": [
    "\n",
    "q1,q2,q3= statistics.quantiles(x)"
   ]
  },
  {
   "cell_type": "code",
   "execution_count": 69,
   "metadata": {},
   "outputs": [],
   "source": [
    "iqr=q3-q1"
   ]
  },
  {
   "cell_type": "code",
   "execution_count": 82,
   "metadata": {},
   "outputs": [
    {
     "name": "stdout",
     "output_type": "stream",
     "text": [
      "-11.049999999999997 57.55\n"
     ]
    }
   ],
   "source": [
    "lowbound=q3-1.9*iqr\n",
    "highbound=q1+1.9*iqr\n",
    "print(lowbound, highbound)"
   ]
  },
  {
   "cell_type": "code",
   "execution_count": 1,
   "metadata": {},
   "outputs": [
    {
     "ename": "NameError",
     "evalue": "name 'x' is not defined",
     "output_type": "error",
     "traceback": [
      "\u001b[1;31m---------------------------------------------------------------------------\u001b[0m",
      "\u001b[1;31mNameError\u001b[0m                                 Traceback (most recent call last)",
      "Cell \u001b[1;32mIn[1], line 1\u001b[0m\n\u001b[1;32m----> 1\u001b[0m \u001b[39mfor\u001b[39;00m i \u001b[39min\u001b[39;00m x:\n\u001b[0;32m      2\u001b[0m     \u001b[39mif\u001b[39;00m (i\u001b[39m<\u001b[39m\u001b[39m=\u001b[39mlowbound):\n\u001b[0;32m      3\u001b[0m         \u001b[39mprint\u001b[39m(i,\u001b[39m\"\u001b[39m\u001b[39mlowbound outlier\u001b[39m\u001b[39m\"\u001b[39m)\n",
      "\u001b[1;31mNameError\u001b[0m: name 'x' is not defined"
     ]
    }
   ],
   "source": [
    "for i in x:\n",
    "    if (i<=lowbound):\n",
    "        print(i,\"lowbound outlier\")\n",
    "    elif (i>=highbound):\n",
    "        print (i,\"highbound oytlier\")   "
   ]
  },
  {
   "cell_type": "code",
   "execution_count": 2,
   "metadata": {},
   "outputs": [],
   "source": [
    "import statistics"
   ]
  },
  {
   "cell_type": "code",
   "execution_count": 7,
   "metadata": {},
   "outputs": [
    {
     "name": "stdout",
     "output_type": "stream",
     "text": [
      "0.9791750122866\n"
     ]
    }
   ],
   "source": [
    "bike=[240,400,1100]\n",
    "fuel=[10,40,90]\n",
    "print(statistics.correlation(bike,fuel))"
   ]
  },
  {
   "cell_type": "code",
   "execution_count": 21,
   "metadata": {},
   "outputs": [
    {
     "name": "stdout",
     "output_type": "stream",
     "text": [
      "-0.8931690851929219\n"
     ]
    }
   ],
   "source": [
    "speed=[60,50,30]\n",
    "time=[10,2.3,56]\n",
    "print(statistics.correlation(speed,time))"
   ]
  },
  {
   "cell_type": "code",
   "execution_count": null,
   "metadata": {},
   "outputs": [],
   "source": []
  }
 ],
 "metadata": {
  "kernelspec": {
   "display_name": "Python 3",
   "language": "python",
   "name": "python3"
  },
  "language_info": {
   "codemirror_mode": {
    "name": "ipython",
    "version": 3
   },
   "file_extension": ".py",
   "mimetype": "text/x-python",
   "name": "python",
   "nbconvert_exporter": "python",
   "pygments_lexer": "ipython3",
   "version": "3.11.4"
  },
  "orig_nbformat": 4
 },
 "nbformat": 4,
 "nbformat_minor": 2
}
