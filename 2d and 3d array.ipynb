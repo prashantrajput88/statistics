{
 "cells": [
  {
   "attachments": {},
   "cell_type": "markdown",
   "metadata": {},
   "source": [
    "2d or 3d\n"
   ]
  },
  {
   "cell_type": "code",
   "execution_count": 2,
   "metadata": {},
   "outputs": [],
   "source": [
    "import numpy as pr"
   ]
  },
  {
   "cell_type": "code",
   "execution_count": 7,
   "metadata": {},
   "outputs": [
    {
     "name": "stdout",
     "output_type": "stream",
     "text": [
      "[0. 0. 0. 0.]\n"
     ]
    }
   ],
   "source": [
    "a=pr.zeros(4)\n",
    "print (a)"
   ]
  },
  {
   "cell_type": "code",
   "execution_count": 14,
   "metadata": {},
   "outputs": [
    {
     "data": {
      "text/plain": [
       "array([1., 1., 1., 1., 1.])"
      ]
     },
     "execution_count": 14,
     "metadata": {},
     "output_type": "execute_result"
    }
   ],
   "source": [
    "pr.ones(5)"
   ]
  },
  {
   "cell_type": "code",
   "execution_count": 20,
   "metadata": {},
   "outputs": [
    {
     "data": {
      "text/plain": [
       "module"
      ]
     },
     "execution_count": 20,
     "metadata": {},
     "output_type": "execute_result"
    }
   ],
   "source": [
    "pr.ones((3,4))\n",
    "type(pr)"
   ]
  },
  {
   "cell_type": "code",
   "execution_count": 25,
   "metadata": {},
   "outputs": [
    {
     "data": {
      "text/plain": [
       "array([[1., 1.],\n",
       "       [1., 1.],\n",
       "       [1., 1.],\n",
       "       [1., 1.],\n",
       "       [1., 1.]])"
      ]
     },
     "execution_count": 25,
     "metadata": {},
     "output_type": "execute_result"
    }
   ],
   "source": [
    "pr.ones([5,2])   ### 2d"
   ]
  },
  {
   "cell_type": "code",
   "execution_count": 51,
   "metadata": {},
   "outputs": [
    {
     "name": "stdout",
     "output_type": "stream",
     "text": [
      "[[[[0. 0. 0. 0.]\n",
      "   [0. 0. 0. 0.]\n",
      "   [0. 0. 0. 0.]\n",
      "   [0. 0. 0. 0.]]\n",
      "\n",
      "  [[0. 0. 0. 0.]\n",
      "   [0. 0. 0. 0.]\n",
      "   [0. 0. 0. 0.]\n",
      "   [0. 0. 0. 0.]]\n",
      "\n",
      "  [[0. 0. 0. 0.]\n",
      "   [0. 0. 0. 0.]\n",
      "   [0. 0. 0. 0.]\n",
      "   [0. 0. 0. 0.]]\n",
      "\n",
      "  [[0. 0. 0. 0.]\n",
      "   [0. 0. 0. 0.]\n",
      "   [0. 0. 0. 0.]\n",
      "   [0. 0. 0. 0.]]]\n",
      "\n",
      "\n",
      " [[[0. 0. 0. 0.]\n",
      "   [0. 0. 0. 0.]\n",
      "   [0. 0. 0. 0.]\n",
      "   [0. 0. 0. 0.]]\n",
      "\n",
      "  [[0. 0. 0. 0.]\n",
      "   [0. 0. 0. 0.]\n",
      "   [0. 0. 0. 0.]\n",
      "   [0. 0. 0. 0.]]\n",
      "\n",
      "  [[0. 0. 0. 0.]\n",
      "   [0. 0. 0. 0.]\n",
      "   [0. 0. 0. 0.]\n",
      "   [0. 0. 0. 0.]]\n",
      "\n",
      "  [[0. 0. 0. 0.]\n",
      "   [0. 0. 0. 0.]\n",
      "   [0. 0. 0. 0.]\n",
      "   [0. 0. 0. 0.]]]\n",
      "\n",
      "\n",
      " [[[0. 0. 0. 0.]\n",
      "   [0. 0. 0. 0.]\n",
      "   [0. 0. 0. 0.]\n",
      "   [0. 0. 0. 0.]]\n",
      "\n",
      "  [[0. 0. 0. 0.]\n",
      "   [0. 0. 0. 0.]\n",
      "   [0. 0. 0. 0.]\n",
      "   [0. 0. 0. 0.]]\n",
      "\n",
      "  [[0. 0. 0. 0.]\n",
      "   [0. 0. 0. 0.]\n",
      "   [0. 0. 0. 0.]\n",
      "   [0. 0. 0. 0.]]\n",
      "\n",
      "  [[0. 0. 0. 0.]\n",
      "   [0. 0. 0. 0.]\n",
      "   [0. 0. 0. 0.]\n",
      "   [0. 0. 0. 0.]]]]\n"
     ]
    }
   ],
   "source": [
    "a=pr.zeros(((3,4,4,4)))\n",
    "print(a)"
   ]
  },
  {
   "cell_type": "code",
   "execution_count": 64,
   "metadata": {},
   "outputs": [
    {
     "name": "stdout",
     "output_type": "stream",
     "text": [
      "[[1. 1. 1. 1. 1.]\n",
      " [1. 1. 1. 1. 1.]\n",
      " [1. 1. 1. 1. 1.]\n",
      " [1. 1. 1. 1. 1.]]\n"
     ]
    },
    {
     "data": {
      "text/plain": [
       "numpy.ndarray"
      ]
     },
     "execution_count": 64,
     "metadata": {},
     "output_type": "execute_result"
    }
   ],
   "source": [
    "\n",
    "a=pr.ones((4,5))\n",
    "print (a)\n",
    "type(a)"
   ]
  },
  {
   "cell_type": "code",
   "execution_count": 70,
   "metadata": {},
   "outputs": [],
   "source": [
    "a[1][1]=30\n",
    "a[2][2]=30\n",
    "a[3][3]=30"
   ]
  },
  {
   "cell_type": "code",
   "execution_count": 71,
   "metadata": {},
   "outputs": [
    {
     "name": "stdout",
     "output_type": "stream",
     "text": [
      "[[ 1.  1.  1.  1.  1.]\n",
      " [ 1. 30.  1.  1.  1.]\n",
      " [ 1.  1. 30.  1.  1.]\n",
      " [ 1.  1.  1. 30.  1.]]\n"
     ]
    }
   ],
   "source": [
    "print(a)"
   ]
  },
  {
   "cell_type": "code",
   "execution_count": 85,
   "metadata": {},
   "outputs": [],
   "source": [
    "a[1][-1]=40"
   ]
  },
  {
   "cell_type": "code",
   "execution_count": 89,
   "metadata": {},
   "outputs": [
    {
     "name": "stdout",
     "output_type": "stream",
     "text": [
      "[[ 1.  1.  1.  1.  1.]\n",
      " [ 1. 30. 30.  1. 40.]\n",
      " [ 1.  1. 30. 40.  1.]\n",
      " [ 1. 40.  1. 30. 40.]]\n"
     ]
    }
   ],
   "source": [
    " print (a)"
   ]
  },
  {
   "cell_type": "code",
   "execution_count": 99,
   "metadata": {},
   "outputs": [],
   "source": [
    "b=pr.ones((3,5))"
   ]
  },
  {
   "cell_type": "code",
   "execution_count": 100,
   "metadata": {},
   "outputs": [
    {
     "name": "stdout",
     "output_type": "stream",
     "text": [
      "[[1. 1. 1. 1. 1.]\n",
      " [1. 1. 1. 1. 1.]\n",
      " [1. 1. 1. 1. 1.]]\n"
     ]
    }
   ],
   "source": [
    "print(b)"
   ]
  },
  {
   "cell_type": "code",
   "execution_count": 113,
   "metadata": {},
   "outputs": [],
   "source": [
    "b[1][1]=10\n",
    "b[2][4]=70"
   ]
  },
  {
   "attachments": {},
   "cell_type": "markdown",
   "metadata": {},
   "source": []
  },
  {
   "cell_type": "code",
   "execution_count": 114,
   "metadata": {},
   "outputs": [
    {
     "name": "stdout",
     "output_type": "stream",
     "text": [
      "[[ 1.  1.  1.  1.  1.]\n",
      " [ 1. 10.  1.  1.  1.]\n",
      " [ 1.  1. 20.  1. 70.]]\n"
     ]
    }
   ],
   "source": [
    "print(b)"
   ]
  },
  {
   "cell_type": "code",
   "execution_count": 123,
   "metadata": {},
   "outputs": [
    {
     "name": "stdout",
     "output_type": "stream",
     "text": [
      "[[100 100 100 100 100]\n",
      " [100 100 100 100 100]\n",
      " [100 100 100 100 100]\n",
      " [100 100 100 100 100]]\n"
     ]
    }
   ],
   "source": [
    "v=pr.full((4,5),100)\n",
    "print (v)"
   ]
  },
  {
   "cell_type": "code",
   "execution_count": 134,
   "metadata": {},
   "outputs": [
    {
     "name": "stdout",
     "output_type": "stream",
     "text": [
      "[[23 23 23 23 23]\n",
      " [23 23 23 23 23]\n",
      " [23 23 23 23 23]\n",
      " [23 23 23 23 23]]\n"
     ]
    }
   ],
   "source": [
    "v=pr.full((4,5),(23))\n",
    "print (v)"
   ]
  },
  {
   "cell_type": "code",
   "execution_count": 139,
   "metadata": {},
   "outputs": [
    {
     "name": "stdout",
     "output_type": "stream",
     "text": [
      "[[1. 0. 0. 0.]\n",
      " [0. 1. 0. 0.]\n",
      " [0. 0. 1. 0.]\n",
      " [0. 0. 0. 1.]]\n"
     ]
    }
   ],
   "source": [
    "b=pr.eye(4,4)   ## main  diogonal\n",
    "print (b)"
   ]
  },
  {
   "cell_type": "code",
   "execution_count": 148,
   "metadata": {},
   "outputs": [
    {
     "name": "stdout",
     "output_type": "stream",
     "text": [
      "[[38 21 10]\n",
      " [17 31 29]\n",
      " [40 25 33]]\n"
     ]
    }
   ],
   "source": [
    "a=pr.random.randint(10,50,(3,3))\n",
    "print (a)\n"
   ]
  },
  {
   "cell_type": "code",
   "execution_count": 150,
   "metadata": {},
   "outputs": [
    {
     "name": "stdout",
     "output_type": "stream",
     "text": [
      "[[20 34 32]\n",
      " [46 17 41]\n",
      " [20 45 28]]\n"
     ]
    }
   ],
   "source": [
    "n=pr.random.randint(10,50,(3,3))\n",
    "print (n)"
   ]
  },
  {
   "cell_type": "code",
   "execution_count": 163,
   "metadata": {},
   "outputs": [
    {
     "name": "stdout",
     "output_type": "stream",
     "text": [
      "[45.  54.  61.5]\n"
     ]
    }
   ],
   "source": [
    "b=pr.trapz(a)\n",
    "print (b)"
   ]
  },
  {
   "cell_type": "code",
   "execution_count": 165,
   "metadata": {},
   "outputs": [
    {
     "name": "stdout",
     "output_type": "stream",
     "text": [
      "65\n"
     ]
    }
   ],
   "source": [
    "b=pr.trace(n)\n",
    "print (b)"
   ]
  },
  {
   "cell_type": "code",
   "execution_count": 171,
   "metadata": {},
   "outputs": [
    {
     "name": "stdout",
     "output_type": "stream",
     "text": [
      "[[38 17 40]\n",
      " [21 31 25]\n",
      " [10 29 33]]\n"
     ]
    }
   ],
   "source": [
    "b=pr.transpose(a)\n",
    "print (b)"
   ]
  },
  {
   "cell_type": "code",
   "execution_count": 172,
   "metadata": {},
   "outputs": [],
   "source": [
    "# termiology related to numpy array\n",
    "#1 fuction >>>..... np funname ( array)\n",
    "#2 method >>>>>>....... array methodname\n",
    "#3 porperty >>>>....... .array.porperty"
   ]
  },
  {
   "cell_type": "code",
   "execution_count": 200,
   "metadata": {},
   "outputs": [
    {
     "name": "stdout",
     "output_type": "stream",
     "text": [
      "2\n",
      "3\n",
      "2\n",
      "9\n",
      "(3, 3)\n",
      "int32\n"
     ]
    }
   ],
   "source": [
    "print(b.ndim)\n",
    "print (len(b))\n",
    "print(b.ndim)\n",
    "print(b.size)\n",
    "print(b.shape)\n",
    "print(b.dtype)"
   ]
  },
  {
   "cell_type": "code",
   "execution_count": 8,
   "metadata": {},
   "outputs": [
    {
     "name": "stdout",
     "output_type": "stream",
     "text": [
      "[77605  7038 39309  8218 50226 63262 52923 81200 44923 47106]\n"
     ]
    }
   ],
   "source": [
    "import numpy as pr\n",
    "v=pr.random.randint(20,100000,10)\n",
    "print (v)"
   ]
  },
  {
   "cell_type": "code",
   "execution_count": 18,
   "metadata": {},
   "outputs": [
    {
     "data": {
      "text/plain": [
       "array([77605, 50226, 63262, 52923, 81200, 44923, 47106])"
      ]
     },
     "execution_count": 18,
     "metadata": {},
     "output_type": "execute_result"
    }
   ],
   "source": [
    "v[v>=40000] \n"
   ]
  },
  {
   "attachments": {},
   "cell_type": "markdown",
   "metadata": {},
   "source": [
    "#import numpy as np"
   ]
  },
  {
   "cell_type": "code",
   "execution_count": 241,
   "metadata": {},
   "outputs": [],
   "source": [
    "import numpy as np"
   ]
  },
  {
   "cell_type": "code",
   "execution_count": 242,
   "metadata": {},
   "outputs": [
    {
     "name": "stdout",
     "output_type": "stream",
     "text": [
      "[[2 7 1 8]\n",
      " [2 9 9 1]\n",
      " [9 5 6 5]]\n"
     ]
    }
   ],
   "source": [
    "h=np.random.randint (1,10,(3,4))\n",
    "print(h)"
   ]
  },
  {
   "cell_type": "code",
   "execution_count": 243,
   "metadata": {},
   "outputs": [
    {
     "data": {
      "text/plain": [
       "array([[2, 7, 1, 8, 2],\n",
       "       [9, 9, 1, 9, 5],\n",
       "       [6, 5, 2, 7, 1],\n",
       "       [8, 2, 9, 9, 1]])"
      ]
     },
     "execution_count": 243,
     "metadata": {},
     "output_type": "execute_result"
    }
   ],
   "source": [
    "np.resize(h,(4,5))"
   ]
  },
  {
   "cell_type": "code",
   "execution_count": 244,
   "metadata": {},
   "outputs": [
    {
     "data": {
      "text/plain": [
       "array([[2, 7, 1, 8, 2, 9, 9],\n",
       "       [1, 9, 5, 6, 5, 2, 7],\n",
       "       [1, 8, 2, 9, 9, 1, 9]])"
      ]
     },
     "execution_count": 244,
     "metadata": {},
     "output_type": "execute_result"
    }
   ],
   "source": [
    "np.resize(h,(3,7))"
   ]
  },
  {
   "attachments": {},
   "cell_type": "markdown",
   "metadata": {},
   "source": [
    "fuction"
   ]
  },
  {
   "cell_type": "code",
   "execution_count": 246,
   "metadata": {},
   "outputs": [
    {
     "data": {
      "text/plain": [
       "array([[2, 7, 1, 8, 2, 9, 9],\n",
       "       [1, 9, 5, 6, 5, 0, 0],\n",
       "       [0, 0, 0, 0, 0, 0, 0]])"
      ]
     },
     "execution_count": 246,
     "metadata": {},
     "output_type": "execute_result"
    }
   ],
   "source": [
    "h.resize(3,7,refcheck=False)\n",
    "h"
   ]
  },
  {
   "cell_type": "code",
   "execution_count": 247,
   "metadata": {},
   "outputs": [
    {
     "data": {
      "text/plain": [
       "array([[2, 7, 1, 8, 2],\n",
       "       [9, 9, 1, 9, 5],\n",
       "       [6, 5, 0, 0, 0],\n",
       "       [0, 0, 0, 0, 0]])"
      ]
     },
     "execution_count": 247,
     "metadata": {},
     "output_type": "execute_result"
    }
   ],
   "source": [
    "h.resize(4,5,refcheck=False)\n",
    "h"
   ]
  },
  {
   "cell_type": "code",
   "execution_count": null,
   "metadata": {},
   "outputs": [],
   "source": []
  },
  {
   "cell_type": "code",
   "execution_count": 248,
   "metadata": {},
   "outputs": [
    {
     "name": "stdout",
     "output_type": "stream",
     "text": [
      "<class 'numpy.ndarray'>\n"
     ]
    }
   ],
   "source": [
    "import sys \n",
    "np.resize(a,(7,4))\n",
    "print(type(m))"
   ]
  },
  {
   "cell_type": "code",
   "execution_count": 249,
   "metadata": {},
   "outputs": [
    {
     "data": {
      "text/plain": [
       "128"
      ]
     },
     "execution_count": 249,
     "metadata": {},
     "output_type": "execute_result"
    }
   ],
   "source": [
    "g=sys.getsizeof(m)\n",
    "g"
   ]
  },
  {
   "cell_type": "code",
   "execution_count": 250,
   "metadata": {},
   "outputs": [
    {
     "name": "stdout",
     "output_type": "stream",
     "text": [
      "[array([6, 7, 4, 8, 6]), array([8, 1, 1, 7, 5]), array([7, 8, 0, 0, 0]), array([0, 6, 7, 4, 8]), array([6, 8, 1, 1, 7]), array([5, 7, 8, 0, 0])]\n"
     ]
    }
   ],
   "source": [
    "n=list(m)\n",
    "print(n)"
   ]
  },
  {
   "cell_type": "code",
   "execution_count": 251,
   "metadata": {},
   "outputs": [
    {
     "name": "stdout",
     "output_type": "stream",
     "text": [
      "<class 'list'>\n"
     ]
    }
   ],
   "source": [
    "print (type(n))"
   ]
  },
  {
   "cell_type": "code",
   "execution_count": 252,
   "metadata": {},
   "outputs": [
    {
     "data": {
      "text/plain": [
       "104"
      ]
     },
     "execution_count": 252,
     "metadata": {},
     "output_type": "execute_result"
    }
   ],
   "source": [
    "sys.getsizeof(n)"
   ]
  },
  {
   "cell_type": "code",
   "execution_count": 253,
   "metadata": {},
   "outputs": [
    {
     "name": "stdout",
     "output_type": "stream",
     "text": [
      "[[1 3 3 3]\n",
      " [8 6 2 2]\n",
      " [1 9 7 8]]\n"
     ]
    }
   ],
   "source": [
    "w=np.random.randint (1,10,(3,4))\n",
    "print(w)"
   ]
  },
  {
   "cell_type": "code",
   "execution_count": 254,
   "metadata": {},
   "outputs": [
    {
     "data": {
      "text/plain": [
       "(<function ndarray.sum>, array([10, 18, 12, 13]))"
      ]
     },
     "execution_count": 254,
     "metadata": {},
     "output_type": "execute_result"
    }
   ],
   "source": [
    "(w.sum),w.sum(axis=0)"
   ]
  },
  {
   "cell_type": "code",
   "execution_count": 255,
   "metadata": {},
   "outputs": [
    {
     "data": {
      "text/plain": [
       "(53, array([10, 18, 12, 13]), array([10, 18, 25]))"
      ]
     },
     "execution_count": 255,
     "metadata": {},
     "output_type": "execute_result"
    }
   ],
   "source": [
    "(w.sum(),w.sum(axis=0),w.sum(axis=1))"
   ]
  },
  {
   "cell_type": "code",
   "execution_count": 256,
   "metadata": {},
   "outputs": [
    {
     "data": {
      "text/plain": [
       "(1, array([1, 3, 2, 2]), array([1, 2, 1]))"
      ]
     },
     "execution_count": 256,
     "metadata": {},
     "output_type": "execute_result"
    }
   ],
   "source": [
    "(w.min(),w.min(axis=0),w.min(axis=1))"
   ]
  },
  {
   "cell_type": "code",
   "execution_count": 257,
   "metadata": {},
   "outputs": [
    {
     "name": "stdout",
     "output_type": "stream",
     "text": [
      "<built-in method max of numpy.ndarray object at 0x000002026B3B8210>\n"
     ]
    },
    {
     "data": {
      "text/plain": [
       "(None, array([8, 9, 7, 8]))"
      ]
     },
     "execution_count": 257,
     "metadata": {},
     "output_type": "execute_result"
    }
   ],
   "source": [
    "print (w.max),w.max(axis=0)"
   ]
  },
  {
   "cell_type": "code",
   "execution_count": 258,
   "metadata": {},
   "outputs": [
    {
     "data": {
      "text/plain": [
       "9"
      ]
     },
     "execution_count": 258,
     "metadata": {},
     "output_type": "execute_result"
    }
   ],
   "source": [
    "w.argmax()"
   ]
  },
  {
   "cell_type": "code",
   "execution_count": 259,
   "metadata": {},
   "outputs": [
    {
     "data": {
      "text/plain": [
       "array([1, 3, 3, 3, 8, 6, 2, 2, 1, 9, 7, 8])"
      ]
     },
     "execution_count": 259,
     "metadata": {},
     "output_type": "execute_result"
    }
   ],
   "source": [
    "w.flatten()"
   ]
  },
  {
   "cell_type": "code",
   "execution_count": 260,
   "metadata": {},
   "outputs": [
    {
     "data": {
      "text/plain": [
       "array([[ 1,  9,  9,  9],\n",
       "       [64, 36,  4,  4],\n",
       "       [ 1, 81, 49, 64]])"
      ]
     },
     "execution_count": 260,
     "metadata": {},
     "output_type": "execute_result"
    }
   ],
   "source": [
    "np.square(w)"
   ]
  },
  {
   "cell_type": "code",
   "execution_count": 261,
   "metadata": {},
   "outputs": [
    {
     "data": {
      "text/plain": [
       "array([[1, 3, 3, 3],\n",
       "       [8, 6, 2, 2],\n",
       "       [1, 9, 7, 8]])"
      ]
     },
     "execution_count": 261,
     "metadata": {},
     "output_type": "execute_result"
    }
   ],
   "source": [
    "w"
   ]
  },
  {
   "cell_type": "code",
   "execution_count": 262,
   "metadata": {},
   "outputs": [
    {
     "data": {
      "text/plain": [
       "array([[1.        , 1.73205081, 1.73205081, 1.73205081],\n",
       "       [2.82842712, 2.44948974, 1.41421356, 1.41421356],\n",
       "       [1.        , 3.        , 2.64575131, 2.82842712]])"
      ]
     },
     "execution_count": 262,
     "metadata": {},
     "output_type": "execute_result"
    }
   ],
   "source": [
    "np.sqrt(w)"
   ]
  },
  {
   "cell_type": "code",
   "execution_count": 263,
   "metadata": {},
   "outputs": [
    {
     "name": "stdout",
     "output_type": "stream",
     "text": [
      "[[3 8 4 8]\n",
      " [8 5 5 1]\n",
      " [9 6 1 8]]\n"
     ]
    }
   ],
   "source": [
    "h=np.random.randint (1,10,(3,4))\n",
    "print(h)"
   ]
  },
  {
   "cell_type": "code",
   "execution_count": 264,
   "metadata": {},
   "outputs": [
    {
     "name": "stdout",
     "output_type": "stream",
     "text": [
      "[[5 3 1 2]\n",
      " [1 4 4 8]\n",
      " [6 8 1 5]]\n"
     ]
    }
   ],
   "source": [
    "w=np.random.randint (1,10,(3,4))\n",
    "print(w)"
   ]
  },
  {
   "cell_type": "code",
   "execution_count": 265,
   "metadata": {},
   "outputs": [
    {
     "data": {
      "text/plain": [
       "array([[15,  9,  3,  6],\n",
       "       [ 3, 12, 12, 24],\n",
       "       [18, 24,  3, 15]])"
      ]
     },
     "execution_count": 265,
     "metadata": {},
     "output_type": "execute_result"
    }
   ],
   "source": [
    "w*3"
   ]
  },
  {
   "cell_type": "code",
   "execution_count": 266,
   "metadata": {},
   "outputs": [
    {
     "data": {
      "text/plain": [
       "array([[ 2,  0, -2, -1],\n",
       "       [-2,  1,  1,  5],\n",
       "       [ 3,  5, -2,  2]])"
      ]
     },
     "execution_count": 266,
     "metadata": {},
     "output_type": "execute_result"
    }
   ],
   "source": [
    "w-3"
   ]
  },
  {
   "cell_type": "code",
   "execution_count": 267,
   "metadata": {},
   "outputs": [
    {
     "data": {
      "text/plain": [
       "array([[5, 3, 1, 2],\n",
       "       [1, 4, 4, 8],\n",
       "       [6, 8, 1, 5]])"
      ]
     },
     "execution_count": 267,
     "metadata": {},
     "output_type": "execute_result"
    }
   ],
   "source": [
    "w"
   ]
  },
  {
   "cell_type": "code",
   "execution_count": 268,
   "metadata": {},
   "outputs": [
    {
     "data": {
      "text/plain": [
       "array([[25,  9,  1,  4],\n",
       "       [ 1, 16, 16, 64],\n",
       "       [36, 64,  1, 25]])"
      ]
     },
     "execution_count": 268,
     "metadata": {},
     "output_type": "execute_result"
    }
   ],
   "source": [
    "w**2"
   ]
  },
  {
   "cell_type": "code",
   "execution_count": 269,
   "metadata": {},
   "outputs": [
    {
     "data": {
      "text/plain": [
       "array([[75, 73, 71, 72],\n",
       "       [71, 74, 74, 78],\n",
       "       [76, 78, 71, 75]])"
      ]
     },
     "execution_count": 269,
     "metadata": {},
     "output_type": "execute_result"
    }
   ],
   "source": [
    "w+70"
   ]
  },
  {
   "cell_type": "code",
   "execution_count": 285,
   "metadata": {},
   "outputs": [
    {
     "name": "stdout",
     "output_type": "stream",
     "text": [
      "[[2 7 4]\n",
      " [6 7 5]\n",
      " [2 3 4]]\n",
      "[[5 7 3 7 6]\n",
      " [4 9 4 9 8]\n",
      " [1 5 3 8 6]]\n"
     ]
    }
   ],
   "source": [
    "a=np.random.randint (1,10,(3,3))\n",
    "b=np.random.randint (1,10,(3,5))\n",
    "print(a)\n",
    "print(b)"
   ]
  },
  {
   "cell_type": "code",
   "execution_count": 286,
   "metadata": {},
   "outputs": [
    {
     "data": {
      "text/plain": [
       "array([[ 42,  97,  46, 109,  92],\n",
       "       [ 63, 130,  61, 145, 122],\n",
       "       [ 26,  61,  30,  73,  60]])"
      ]
     },
     "execution_count": 286,
     "metadata": {},
     "output_type": "execute_result"
    }
   ],
   "source": [
    "a@b"
   ]
  },
  {
   "attachments": {},
   "cell_type": "markdown",
   "metadata": {},
   "source": [
    "numpy 3d array"
   ]
  },
  {
   "cell_type": "code",
   "execution_count": 292,
   "metadata": {},
   "outputs": [
    {
     "data": {
      "text/plain": [
       "array([ 0,  1,  2,  3,  4,  5,  6,  7,  8,  9, 10, 11])"
      ]
     },
     "execution_count": 292,
     "metadata": {},
     "output_type": "execute_result"
    }
   ],
   "source": [
    "a=np.arange(12)\n",
    "a"
   ]
  },
  {
   "cell_type": "code",
   "execution_count": 314,
   "metadata": {},
   "outputs": [
    {
     "name": "stdout",
     "output_type": "stream",
     "text": [
      "[[[[[9 4 6 3]\n",
      "    [7 2 6 6]\n",
      "    [2 8 2 4]\n",
      "    ...\n",
      "    [2 8 1 6]\n",
      "    [4 5 9 3]\n",
      "    [2 9 5 4]]\n",
      "\n",
      "   [[4 1 8 5]\n",
      "    [2 4 5 4]\n",
      "    [9 9 8 4]\n",
      "    ...\n",
      "    [3 7 8 9]\n",
      "    [6 5 8 4]\n",
      "    [5 5 9 8]]\n",
      "\n",
      "   [[3 4 7 2]\n",
      "    [7 5 8 4]\n",
      "    [1 9 8 9]\n",
      "    ...\n",
      "    [3 3 9 1]\n",
      "    [8 6 2 8]\n",
      "    [1 4 1 7]]\n",
      "\n",
      "   [[9 5 4 6]\n",
      "    [1 8 1 6]\n",
      "    [3 7 2 9]\n",
      "    ...\n",
      "    [3 5 3 3]\n",
      "    [8 5 8 7]\n",
      "    [1 7 1 3]]\n",
      "\n",
      "   [[4 6 9 7]\n",
      "    [9 8 8 6]\n",
      "    [6 7 3 3]\n",
      "    ...\n",
      "    [4 9 7 8]\n",
      "    [4 5 1 8]\n",
      "    [6 9 6 6]]]\n",
      "\n",
      "\n",
      "  [[[6 6 5 5]\n",
      "    [1 9 5 6]\n",
      "    [7 8 3 3]\n",
      "    ...\n",
      "    [6 1 3 8]\n",
      "    [2 3 7 8]\n",
      "    [4 7 2 7]]\n",
      "\n",
      "   [[4 5 2 9]\n",
      "    [4 5 1 3]\n",
      "    [7 3 2 5]\n",
      "    ...\n",
      "    [1 2 9 2]\n",
      "    [1 6 8 1]\n",
      "    [5 7 5 2]]\n",
      "\n",
      "   [[1 3 6 2]\n",
      "    [9 8 5 2]\n",
      "    [9 4 2 9]\n",
      "    ...\n",
      "    [4 2 5 1]\n",
      "    [3 5 6 2]\n",
      "    [9 4 8 8]]\n",
      "\n",
      "   [[2 2 3 9]\n",
      "    [9 4 1 9]\n",
      "    [9 9 2 8]\n",
      "    ...\n",
      "    [3 1 1 1]\n",
      "    [5 6 2 2]\n",
      "    [8 6 3 1]]\n",
      "\n",
      "   [[2 5 6 9]\n",
      "    [2 8 9 6]\n",
      "    [3 3 5 3]\n",
      "    ...\n",
      "    [5 2 5 7]\n",
      "    [3 4 8 8]\n",
      "    [7 4 6 6]]]\n",
      "\n",
      "\n",
      "  [[[1 7 1 7]\n",
      "    [5 3 5 3]\n",
      "    [2 2 2 8]\n",
      "    ...\n",
      "    [7 7 7 4]\n",
      "    [1 9 7 5]\n",
      "    [9 8 9 7]]\n",
      "\n",
      "   [[5 2 6 7]\n",
      "    [7 7 3 6]\n",
      "    [4 7 7 8]\n",
      "    ...\n",
      "    [1 8 7 1]\n",
      "    [8 1 6 9]\n",
      "    [8 9 4 3]]\n",
      "\n",
      "   [[7 4 5 6]\n",
      "    [6 8 1 5]\n",
      "    [6 5 7 5]\n",
      "    ...\n",
      "    [7 4 9 4]\n",
      "    [1 1 3 8]\n",
      "    [1 6 8 9]]\n",
      "\n",
      "   [[5 4 5 8]\n",
      "    [7 6 1 7]\n",
      "    [6 4 5 7]\n",
      "    ...\n",
      "    [1 4 5 3]\n",
      "    [9 8 2 3]\n",
      "    [8 6 3 5]]\n",
      "\n",
      "   [[1 2 9 4]\n",
      "    [2 4 1 7]\n",
      "    [1 9 6 3]\n",
      "    ...\n",
      "    [6 4 9 6]\n",
      "    [2 1 4 5]\n",
      "    [5 2 7 5]]]\n",
      "\n",
      "\n",
      "  [[[9 9 8 9]\n",
      "    [9 6 2 5]\n",
      "    [2 6 9 6]\n",
      "    ...\n",
      "    [8 2 4 2]\n",
      "    [1 2 1 9]\n",
      "    [7 3 1 8]]\n",
      "\n",
      "   [[9 9 7 9]\n",
      "    [5 9 5 8]\n",
      "    [5 5 2 9]\n",
      "    ...\n",
      "    [3 3 1 8]\n",
      "    [6 7 8 6]\n",
      "    [7 1 7 3]]\n",
      "\n",
      "   [[5 1 6 2]\n",
      "    [2 6 8 8]\n",
      "    [4 8 2 2]\n",
      "    ...\n",
      "    [7 9 8 1]\n",
      "    [3 7 9 2]\n",
      "    [6 6 9 3]]\n",
      "\n",
      "   [[5 4 2 9]\n",
      "    [3 3 9 3]\n",
      "    [6 9 8 1]\n",
      "    ...\n",
      "    [7 2 9 2]\n",
      "    [4 1 2 7]\n",
      "    [4 7 5 7]]\n",
      "\n",
      "   [[5 5 9 2]\n",
      "    [5 8 2 6]\n",
      "    [1 8 7 7]\n",
      "    ...\n",
      "    [5 8 5 8]\n",
      "    [1 3 9 2]\n",
      "    [9 3 3 7]]]\n",
      "\n",
      "\n",
      "  [[[7 1 2 7]\n",
      "    [2 5 1 8]\n",
      "    [8 2 9 9]\n",
      "    ...\n",
      "    [7 2 9 3]\n",
      "    [9 5 4 8]\n",
      "    [9 4 2 7]]\n",
      "\n",
      "   [[9 4 5 8]\n",
      "    [8 3 1 4]\n",
      "    [6 9 3 3]\n",
      "    ...\n",
      "    [5 2 7 1]\n",
      "    [2 8 9 2]\n",
      "    [2 9 2 7]]\n",
      "\n",
      "   [[5 7 3 2]\n",
      "    [4 7 5 6]\n",
      "    [5 8 2 3]\n",
      "    ...\n",
      "    [2 6 2 1]\n",
      "    [4 9 8 9]\n",
      "    [3 2 5 1]]\n",
      "\n",
      "   [[6 1 6 7]\n",
      "    [2 5 6 8]\n",
      "    [3 5 5 4]\n",
      "    ...\n",
      "    [3 4 1 9]\n",
      "    [2 5 2 1]\n",
      "    [5 7 3 1]]\n",
      "\n",
      "   [[1 7 4 6]\n",
      "    [6 8 5 1]\n",
      "    [5 1 6 7]\n",
      "    ...\n",
      "    [2 9 4 7]\n",
      "    [3 2 3 5]\n",
      "    [6 3 1 4]]]]\n",
      "\n",
      "\n",
      "\n",
      " [[[[5 3 1 8]\n",
      "    [2 8 1 3]\n",
      "    [6 4 6 1]\n",
      "    ...\n",
      "    [9 8 6 1]\n",
      "    [5 7 2 8]\n",
      "    [8 4 7 5]]\n",
      "\n",
      "   [[8 2 2 2]\n",
      "    [9 8 9 9]\n",
      "    [5 4 4 8]\n",
      "    ...\n",
      "    [5 5 5 9]\n",
      "    [8 8 3 3]\n",
      "    [6 6 7 3]]\n",
      "\n",
      "   [[9 8 9 4]\n",
      "    [2 8 9 3]\n",
      "    [1 3 4 9]\n",
      "    ...\n",
      "    [3 5 7 9]\n",
      "    [8 1 4 5]\n",
      "    [6 6 1 1]]\n",
      "\n",
      "   [[1 2 8 6]\n",
      "    [7 4 6 3]\n",
      "    [9 4 1 4]\n",
      "    ...\n",
      "    [9 7 6 3]\n",
      "    [1 6 2 9]\n",
      "    [5 7 2 3]]\n",
      "\n",
      "   [[9 9 1 9]\n",
      "    [4 8 7 8]\n",
      "    [4 3 1 6]\n",
      "    ...\n",
      "    [1 4 6 2]\n",
      "    [4 5 3 3]\n",
      "    [2 2 3 2]]]\n",
      "\n",
      "\n",
      "  [[[3 7 6 2]\n",
      "    [4 7 3 2]\n",
      "    [5 8 4 8]\n",
      "    ...\n",
      "    [1 2 6 4]\n",
      "    [1 6 5 5]\n",
      "    [1 6 7 8]]\n",
      "\n",
      "   [[8 3 9 4]\n",
      "    [1 7 6 5]\n",
      "    [4 7 4 9]\n",
      "    ...\n",
      "    [8 9 9 2]\n",
      "    [6 5 2 6]\n",
      "    [9 3 1 6]]\n",
      "\n",
      "   [[4 1 9 6]\n",
      "    [5 8 2 4]\n",
      "    [6 4 3 6]\n",
      "    ...\n",
      "    [9 2 6 3]\n",
      "    [1 5 5 8]\n",
      "    [2 7 9 8]]\n",
      "\n",
      "   [[6 1 2 2]\n",
      "    [8 7 6 9]\n",
      "    [6 3 8 6]\n",
      "    ...\n",
      "    [4 2 3 4]\n",
      "    [7 9 7 5]\n",
      "    [4 2 3 1]]\n",
      "\n",
      "   [[4 8 1 6]\n",
      "    [1 9 5 8]\n",
      "    [8 8 6 9]\n",
      "    ...\n",
      "    [4 1 5 1]\n",
      "    [5 2 7 4]\n",
      "    [3 4 8 2]]]\n",
      "\n",
      "\n",
      "  [[[1 5 6 6]\n",
      "    [8 9 9 3]\n",
      "    [7 8 6 7]\n",
      "    ...\n",
      "    [6 6 8 5]\n",
      "    [1 7 9 2]\n",
      "    [5 5 7 3]]\n",
      "\n",
      "   [[8 9 5 8]\n",
      "    [4 2 1 1]\n",
      "    [9 3 5 7]\n",
      "    ...\n",
      "    [9 9 6 1]\n",
      "    [3 8 6 5]\n",
      "    [5 2 8 1]]\n",
      "\n",
      "   [[8 8 1 1]\n",
      "    [7 8 7 6]\n",
      "    [2 1 5 9]\n",
      "    ...\n",
      "    [2 9 3 1]\n",
      "    [3 2 6 6]\n",
      "    [9 6 5 9]]\n",
      "\n",
      "   [[8 6 4 9]\n",
      "    [1 4 4 1]\n",
      "    [6 3 5 4]\n",
      "    ...\n",
      "    [4 6 1 7]\n",
      "    [3 6 1 4]\n",
      "    [2 2 1 8]]\n",
      "\n",
      "   [[6 7 9 5]\n",
      "    [8 5 8 3]\n",
      "    [9 7 9 3]\n",
      "    ...\n",
      "    [5 8 5 1]\n",
      "    [1 3 4 3]\n",
      "    [9 9 6 5]]]\n",
      "\n",
      "\n",
      "  [[[1 8 4 4]\n",
      "    [6 5 5 3]\n",
      "    [2 2 7 3]\n",
      "    ...\n",
      "    [3 7 7 9]\n",
      "    [6 8 7 1]\n",
      "    [4 5 8 5]]\n",
      "\n",
      "   [[6 3 7 6]\n",
      "    [3 5 8 7]\n",
      "    [3 2 9 4]\n",
      "    ...\n",
      "    [9 7 2 6]\n",
      "    [9 6 4 2]\n",
      "    [2 2 1 5]]\n",
      "\n",
      "   [[7 3 8 1]\n",
      "    [6 3 2 2]\n",
      "    [2 2 5 7]\n",
      "    ...\n",
      "    [2 7 9 3]\n",
      "    [3 3 6 4]\n",
      "    [2 2 8 4]]\n",
      "\n",
      "   [[7 9 8 1]\n",
      "    [7 3 8 5]\n",
      "    [1 4 5 9]\n",
      "    ...\n",
      "    [4 7 7 5]\n",
      "    [2 9 6 3]\n",
      "    [8 6 7 9]]\n",
      "\n",
      "   [[2 1 2 6]\n",
      "    [4 4 7 1]\n",
      "    [4 6 8 9]\n",
      "    ...\n",
      "    [9 9 4 8]\n",
      "    [9 4 2 6]\n",
      "    [3 9 9 4]]]\n",
      "\n",
      "\n",
      "  [[[5 3 6 2]\n",
      "    [7 9 6 7]\n",
      "    [1 7 7 3]\n",
      "    ...\n",
      "    [6 4 6 8]\n",
      "    [1 8 2 1]\n",
      "    [3 6 8 8]]\n",
      "\n",
      "   [[1 4 8 1]\n",
      "    [3 7 2 3]\n",
      "    [8 2 5 3]\n",
      "    ...\n",
      "    [1 9 6 5]\n",
      "    [5 9 3 8]\n",
      "    [7 5 2 1]]\n",
      "\n",
      "   [[6 2 5 4]\n",
      "    [8 2 5 4]\n",
      "    [1 2 9 7]\n",
      "    ...\n",
      "    [2 5 2 3]\n",
      "    [7 4 9 1]\n",
      "    [7 8 1 1]]\n",
      "\n",
      "   [[5 2 4 4]\n",
      "    [5 7 7 6]\n",
      "    [2 1 9 2]\n",
      "    ...\n",
      "    [3 3 7 7]\n",
      "    [6 4 9 1]\n",
      "    [8 5 9 7]]\n",
      "\n",
      "   [[5 6 9 9]\n",
      "    [7 4 2 1]\n",
      "    [8 4 7 8]\n",
      "    ...\n",
      "    [9 8 7 8]\n",
      "    [7 9 4 5]\n",
      "    [1 1 7 3]]]]\n",
      "\n",
      "\n",
      "\n",
      " [[[[8 8 9 2]\n",
      "    [1 8 7 9]\n",
      "    [9 8 6 9]\n",
      "    ...\n",
      "    [5 6 2 9]\n",
      "    [6 7 5 4]\n",
      "    [8 8 8 7]]\n",
      "\n",
      "   [[8 9 7 6]\n",
      "    [7 7 2 7]\n",
      "    [2 1 2 6]\n",
      "    ...\n",
      "    [9 7 2 7]\n",
      "    [7 7 8 4]\n",
      "    [5 7 9 7]]\n",
      "\n",
      "   [[7 4 7 1]\n",
      "    [1 4 7 6]\n",
      "    [3 3 6 1]\n",
      "    ...\n",
      "    [3 2 2 1]\n",
      "    [1 7 5 5]\n",
      "    [4 9 8 3]]\n",
      "\n",
      "   [[2 7 5 3]\n",
      "    [5 9 4 8]\n",
      "    [1 8 8 7]\n",
      "    ...\n",
      "    [3 5 2 6]\n",
      "    [8 5 6 8]\n",
      "    [7 2 6 7]]\n",
      "\n",
      "   [[7 3 5 3]\n",
      "    [7 4 9 7]\n",
      "    [6 6 1 8]\n",
      "    ...\n",
      "    [3 2 7 4]\n",
      "    [6 1 2 1]\n",
      "    [4 4 7 6]]]\n",
      "\n",
      "\n",
      "  [[[2 7 2 7]\n",
      "    [1 3 1 3]\n",
      "    [6 3 9 2]\n",
      "    ...\n",
      "    [8 1 1 1]\n",
      "    [1 5 2 9]\n",
      "    [7 5 9 5]]\n",
      "\n",
      "   [[3 6 2 7]\n",
      "    [9 9 8 2]\n",
      "    [3 8 7 7]\n",
      "    ...\n",
      "    [6 8 4 4]\n",
      "    [9 6 5 1]\n",
      "    [6 4 3 2]]\n",
      "\n",
      "   [[6 7 5 7]\n",
      "    [7 4 7 9]\n",
      "    [6 3 5 9]\n",
      "    ...\n",
      "    [7 3 5 7]\n",
      "    [3 1 9 3]\n",
      "    [1 1 9 8]]\n",
      "\n",
      "   [[3 4 9 6]\n",
      "    [4 1 4 9]\n",
      "    [4 4 3 6]\n",
      "    ...\n",
      "    [9 4 4 5]\n",
      "    [3 3 1 6]\n",
      "    [5 2 1 6]]\n",
      "\n",
      "   [[8 8 5 9]\n",
      "    [3 6 6 8]\n",
      "    [1 3 6 1]\n",
      "    ...\n",
      "    [2 6 8 6]\n",
      "    [1 3 9 5]\n",
      "    [9 4 5 8]]]\n",
      "\n",
      "\n",
      "  [[[8 5 2 5]\n",
      "    [6 5 9 4]\n",
      "    [3 5 8 5]\n",
      "    ...\n",
      "    [5 9 9 3]\n",
      "    [9 1 6 4]\n",
      "    [1 8 5 1]]\n",
      "\n",
      "   [[7 4 6 2]\n",
      "    [5 2 5 2]\n",
      "    [8 2 8 1]\n",
      "    ...\n",
      "    [8 4 3 9]\n",
      "    [9 6 5 2]\n",
      "    [1 9 5 2]]\n",
      "\n",
      "   [[9 1 7 3]\n",
      "    [8 4 9 4]\n",
      "    [7 2 5 9]\n",
      "    ...\n",
      "    [2 1 1 5]\n",
      "    [3 2 4 5]\n",
      "    [1 7 7 3]]\n",
      "\n",
      "   [[8 6 4 1]\n",
      "    [2 9 3 6]\n",
      "    [7 8 6 9]\n",
      "    ...\n",
      "    [1 3 8 6]\n",
      "    [1 9 3 2]\n",
      "    [6 3 2 4]]\n",
      "\n",
      "   [[9 8 1 6]\n",
      "    [1 4 9 7]\n",
      "    [4 8 6 1]\n",
      "    ...\n",
      "    [4 7 6 7]\n",
      "    [9 8 7 3]\n",
      "    [9 7 4 8]]]\n",
      "\n",
      "\n",
      "  [[[1 1 9 9]\n",
      "    [9 5 2 2]\n",
      "    [6 4 7 9]\n",
      "    ...\n",
      "    [4 2 2 2]\n",
      "    [5 2 2 5]\n",
      "    [9 2 1 3]]\n",
      "\n",
      "   [[2 3 5 6]\n",
      "    [6 4 3 7]\n",
      "    [9 7 7 6]\n",
      "    ...\n",
      "    [9 6 3 7]\n",
      "    [9 2 9 3]\n",
      "    [5 6 4 3]]\n",
      "\n",
      "   [[5 4 2 2]\n",
      "    [1 1 3 4]\n",
      "    [3 8 8 1]\n",
      "    ...\n",
      "    [6 3 4 1]\n",
      "    [6 4 9 8]\n",
      "    [7 9 3 6]]\n",
      "\n",
      "   [[1 6 9 2]\n",
      "    [3 2 7 9]\n",
      "    [8 6 8 1]\n",
      "    ...\n",
      "    [4 9 7 6]\n",
      "    [7 2 5 3]\n",
      "    [9 5 8 3]]\n",
      "\n",
      "   [[2 2 4 1]\n",
      "    [1 7 1 1]\n",
      "    [4 7 2 7]\n",
      "    ...\n",
      "    [2 8 4 8]\n",
      "    [3 9 6 1]\n",
      "    [4 3 4 3]]]\n",
      "\n",
      "\n",
      "  [[[7 7 6 4]\n",
      "    [1 1 6 7]\n",
      "    [5 3 2 3]\n",
      "    ...\n",
      "    [7 9 2 8]\n",
      "    [7 7 6 3]\n",
      "    [3 1 4 3]]\n",
      "\n",
      "   [[2 8 5 1]\n",
      "    [2 3 6 4]\n",
      "    [1 6 3 2]\n",
      "    ...\n",
      "    [3 1 4 2]\n",
      "    [8 7 2 2]\n",
      "    [3 4 4 6]]\n",
      "\n",
      "   [[4 3 6 3]\n",
      "    [7 4 1 8]\n",
      "    [7 4 8 7]\n",
      "    ...\n",
      "    [4 8 7 1]\n",
      "    [7 8 3 1]\n",
      "    [5 9 8 7]]\n",
      "\n",
      "   [[8 5 2 5]\n",
      "    [8 2 5 6]\n",
      "    [8 7 4 2]\n",
      "    ...\n",
      "    [6 4 3 3]\n",
      "    [3 8 5 4]\n",
      "    [2 5 1 8]]\n",
      "\n",
      "   [[3 3 4 9]\n",
      "    [2 9 4 1]\n",
      "    [3 1 9 1]\n",
      "    ...\n",
      "    [2 3 1 2]\n",
      "    [7 3 6 9]\n",
      "    [3 4 2 8]]]]]\n"
     ]
    }
   ],
   "source": [
    "a=np.random.randint(1,10,(3,5,5,7,4))\n",
    "print (a)"
   ]
  },
  {
   "cell_type": "code",
   "execution_count": null,
   "metadata": {},
   "outputs": [],
   "source": []
  }
 ],
 "metadata": {
  "kernelspec": {
   "display_name": "Python 3",
   "language": "python",
   "name": "python3"
  },
  "language_info": {
   "codemirror_mode": {
    "name": "ipython",
    "version": 3
   },
   "file_extension": ".py",
   "mimetype": "text/x-python",
   "name": "python",
   "nbconvert_exporter": "python",
   "pygments_lexer": "ipython3",
   "version": "3.11.4"
  },
  "orig_nbformat": 4
 },
 "nbformat": 4,
 "nbformat_minor": 2
}
